{
 "cells": [
  {
   "cell_type": "code",
   "execution_count": 1,
   "metadata": {},
   "outputs": [],
   "source": [
    "import numpy as np\n",
    "import zipfile as zp\n",
    "import tensorflow as tf\n",
    "import tensorflow.keras\n",
    "import shutil\n",
    "import os\n",
    "from PIL import Image\n",
    "import re\n",
    "import random\n",
    "import pickle\n",
    "import gc\n",
    "import dill\n",
    "import pandas as pd\n",
    "import matplotlib.pyplot as plt\n",
    "%matplotlib inline"
   ]
  },
  {
   "cell_type": "code",
   "execution_count": 2,
   "metadata": {},
   "outputs": [
    {
     "name": "stdout",
     "output_type": "stream",
     "text": [
      "No of training samples  = 20000\n",
      "No of test samples = 12500\n"
     ]
    }
   ],
   "source": [
    "#Printing number of training and test samples\n",
    "print('No of training samples  = ' + str(len(os.listdir('C:/Users/Muaaz/dogs-vs-cats-redux-kernels-edition/train/cats')) + len(os.listdir('C:/Users/Muaaz/dogs-vs-cats-redux-kernels-edition/train/dogs'))))\n",
    "print('No of test samples = ' + str(len(os.listdir('C:/Users/Muaaz/dogs-vs-cats-redux-kernels-edition/test'))))\n",
    "train_fnames = os.listdir('C:/Users/Muaaz/dogs-vs-cats-redux-kernels-edition/train/cats/') + os.listdir('C:/Users/Muaaz/dogs-vs-cats-redux-kernels-edition/train/dogs/')"
   ]
  },
  {
   "cell_type": "code",
   "execution_count": null,
   "metadata": {},
   "outputs": [],
   "source": [
    "#Moving training pics to cat/dog subdir based on filename\n",
    "def move_train_file(path1,path2,x):\n",
    "   #path specifies either train or test\n",
    "   #If cat move to cat subdir if not move to dog subdir\n",
    "    if x[:3] == 'cat':\n",
    "        shutil.move(path1+'/' +x, path2 + '/cats/'+x)\n",
    "    elif x[:3] == 'dog':\n",
    "        shutil.move(path1+'/' +x, path2 + '/dogs/'+x)\n",
    "\n",
    "pd.Series(train_fnames).apply(lambda x: move_train_file('C:/Users/Muaaz/dogs-vs-cats-redux-kernels-edition/train','C:/Users/Muaaz/dogs-vs-cats-redux-kernels-edition/train',x))\n"
   ]
  },
  {
   "cell_type": "code",
   "execution_count": 3,
   "metadata": {
    "scrolled": true
   },
   "outputs": [
    {
     "name": "stdout",
     "output_type": "stream",
     "text": [
      "10000 10000\n"
     ]
    }
   ],
   "source": [
    "print(len(os.listdir('C:/Users/Muaaz/dogs-vs-cats-redux-kernels-edition/train/cats/')), len(os.listdir('C:/Users/Muaaz/dogs-vs-cats-redux-kernels-edition/train/dogs/')))"
   ]
  },
  {
   "cell_type": "code",
   "execution_count": 25,
   "metadata": {},
   "outputs": [
    {
     "name": "stdout",
     "output_type": "stream",
     "text": [
      "2500 2500\n",
      "Validation set is  2500  and  2500\n"
     ]
    }
   ],
   "source": [
    "#Randomly pick 20% of training images and move to validation\n",
    "def move_file(path1,path2,x):\n",
    "   #path specifies either train or test\n",
    "   #If cat move to cat subdir if not move to dog subdir\n",
    "    if x[:3] == 'cat':\n",
    "        shutil.move(path1+'/cats/' +x, path2 + '/cats/'+x)\n",
    "    elif x[:3] == 'dog':\n",
    "        shutil.move(path1 + '/dogs/'+x, path2 + '/dogs/'+x)\n",
    "valid_fnames_cat = np.array(os.listdir('C:/Users/Muaaz/dogs-vs-cats-redux-kernels-edition/train/cats'))[np.random.choice(list(range(12500)), 2500, replace=False)]\n",
    "valid_fnames_dog = np.array(os.listdir('C:/Users/Muaaz/dogs-vs-cats-redux-kernels-edition/train/dogs'))[np.random.choice(list(range(12500)), 2500, replace=False)]\n",
    "print(len(valid_fnames_cat), len(valid_fnames_dog))\n",
    "pd.Series(valid_fnames_cat).apply(lambda x: move_file('C:/Users/Muaaz/dogs-vs-cats-redux-kernels-edition/train','C:/Users/Muaaz/dogs-vs-cats-redux-kernels-edition/validation',x))\n",
    "pd.Series(valid_fnames_dog).apply(lambda x: move_file('C:/Users/Muaaz/dogs-vs-cats-redux-kernels-edition/train','C:/Users/Muaaz/dogs-vs-cats-redux-kernels-edition/validation',x))\n",
    "print('Validation set is ',len(os.listdir('C:/Users/Muaaz/dogs-vs-cats-redux-kernels-edition/validation/cats')), ' and ',len(os.listdir('C:/Users/Muaaz/dogs-vs-cats-redux-kernels-edition/validation/dogs')))"
   ]
  },
  {
   "cell_type": "code",
   "execution_count": 3,
   "metadata": {},
   "outputs": [],
   "source": [
    "from keras.preprocessing.image import ImageDataGenerator\n",
    "train_datagen = ImageDataGenerator(rescale = 1/255.0,\n",
    "                                   zoom_range = 0.2,\n",
    "                                   shear_range = 0.2,\n",
    "                                   horizontal_flip = True,\n",
    "                                   rotation_range = 45,\n",
    "                                   width_shift_range = 0.2,\n",
    "                                   height_shift_range = 0.2,\n",
    "                                   fill_mode = \"nearest\"\n",
    "                                   )\n",
    "valid_datagen = ImageDataGenerator(rescale = 1/255.0,\n",
    "                                   horizontal_flip = True,\n",
    "                                   shear_range = 0.2,\n",
    "                                   zoom_range = 0.2,\n",
    "                                   fill_mode = 'nearest',\n",
    "                                   height_shift_range = 0.2,\n",
    "                                   width_shift_range = 0.2,\n",
    "                                   rotation_range = 40\n",
    "                                   \n",
    ")"
   ]
  },
  {
   "cell_type": "code",
   "execution_count": 4,
   "metadata": {},
   "outputs": [],
   "source": [
    "from keras.models import Sequential\n",
    "from keras.layers import Activation, Dropout, Flatten, Dense, BatchNormalization, Dropout\n",
    "from keras.preprocessing.image import ImageDataGenerator\n",
    "from keras.layers import Conv2D, MaxPooling2D, ZeroPadding2D\n",
    "from keras.optimizers import RMSprop, Adam\n",
    "from keras.regularizers import l2"
   ]
  },
  {
   "cell_type": "code",
   "execution_count": 5,
   "metadata": {},
   "outputs": [],
   "source": [
    "#Specify the model\n",
    "model = Sequential()\n",
    "\n",
    "#Conv layer 1\n",
    "model.add(Conv2D(32, (3, 3), activation='elu',input_shape=(256,256,3), kernel_initializer='he_normal' ))\n",
    "model.add(BatchNormalization())\n",
    "model.add(MaxPooling2D(2, 2))\n",
    "#Conv layer 2\n",
    "model.add(Conv2D(64, (3, 3), activation='elu', kernel_initializer='he_normal'))\n",
    "model.add(BatchNormalization())\n",
    "model.add(MaxPooling2D(2, 2))\n",
    "#Conv layer 3\n",
    "model.add(Conv2D(128, (3, 3), activation='elu', kernel_initializer='he_normal'))\n",
    "model.add(BatchNormalization())\n",
    "model.add(MaxPooling2D(2, 2))\n",
    "#Conv layer 4\n",
    "model.add(Conv2D(256, (3, 3), activation='elu', kernel_initializer='he_normal'))\n",
    "model.add(BatchNormalization())\n",
    "model.add(MaxPooling2D(2, 2))\n",
    "#Conv layer 5\n",
    "model.add(Conv2D(256, (3, 3), activation='elu', kernel_initializer='he_normal'))\n",
    "model.add(BatchNormalization())\n",
    "model.add(MaxPooling2D(2, 2))\n",
    "#Conv layer 6\n",
    "model.add(Conv2D(512, (3, 3), activation='elu', kernel_initializer='he_normal'))\n",
    "model.add(BatchNormalization())\n",
    "model.add(MaxPooling2D(2, 2))\n",
    "#Flatten\n",
    "model.add(Flatten())\n",
    "#Fully Connected layer\n",
    "model.add(Dense(1024, activation='elu', kernel_regularizer=l2(0.001), kernel_initializer='he_normal'))\n",
    "model.add(BatchNormalization())\n",
    "#Dropout\n",
    "model.add(Dropout(0.5))\n",
    "model.add(Dense(1, activation='sigmoid', kernel_regularizer=l2(0.001), kernel_initializer='glorot_normal'))\n"
   ]
  },
  {
   "cell_type": "code",
   "execution_count": 6,
   "metadata": {},
   "outputs": [],
   "source": [
    "from keras.callbacks import ModelCheckpoint, EarlyStopping, ReduceLROnPlateau\n",
    "\n",
    "checkpoint = ModelCheckpoint(\"C:/Users/Muaaz/dogs-vs-cats-classifier-3.h5\",\n",
    "                             monitor=\"val_loss\",\n",
    "                             mode=\"min\",\n",
    "                             save_best_only = True,\n",
    "                             verbose=1)\n",
    "\n",
    "my_callback_es = EarlyStopping(patience = 5, \n",
    "                               restore_best_weights = True\n",
    "                               )\n",
    "\n",
    "my_callback_rlr = ReduceLROnPlateau(monitor='val_accuracy', \n",
    "                                    patience=3, \n",
    "                                    factor=0.5, \n",
    "                                    min_lr=0.00001, \n",
    "                                    verbose=1\n",
    "                                    )\n",
    "\n",
    "model.compile(optimizer = RMSprop(learning_rate=0.0005), \n",
    "              loss = 'binary_crossentropy', \n",
    "              metrics = ['accuracy']\n",
    "             )"
   ]
  },
  {
   "cell_type": "code",
   "execution_count": 8,
   "metadata": {},
   "outputs": [
    {
     "name": "stdout",
     "output_type": "stream",
     "text": [
      "Found 20000 images belonging to 2 classes.\n",
      "Found 5000 images belonging to 2 classes.\n",
      "Epoch 1/70\n",
      "63/62 [==============================] - ETA: -1s - loss: 3.1374 - accuracy: 0.5754\n",
      "Epoch 00001: val_loss improved from inf to 4.75603, saving model to C:/Users/Muaaz\\dogs-vs-cats-classifier-3.h5\n",
      "63/62 [==============================] - 336s 5s/step - loss: 3.1374 - accuracy: 0.5754 - val_loss: 4.7560 - val_accuracy: 0.4934\n",
      "Epoch 2/70\n",
      "63/62 [==============================] - ETA: -1s - loss: 2.8533 - accuracy: 0.5962\n",
      "Epoch 00002: val_loss improved from 4.75603 to 2.88608, saving model to C:/Users/Muaaz\\dogs-vs-cats-classifier-3.h5\n",
      "63/62 [==============================] - 320s 5s/step - loss: 2.8533 - accuracy: 0.5962 - val_loss: 2.8861 - val_accuracy: 0.5428\n",
      "Epoch 3/70\n",
      "63/62 [==============================] - ETA: -1s - loss: 2.6154 - accuracy: 0.6096\n",
      "Epoch 00003: val_loss did not improve from 2.88608\n",
      "63/62 [==============================] - 328s 5s/step - loss: 2.6154 - accuracy: 0.6096 - val_loss: 3.2999 - val_accuracy: 0.5138\n",
      "Epoch 4/70\n",
      "63/62 [==============================] - ETA: -1s - loss: 2.4816 - accuracy: 0.6032\n",
      "Epoch 00004: val_loss improved from 2.88608 to 2.43264, saving model to C:/Users/Muaaz\\dogs-vs-cats-classifier-3.h5\n",
      "63/62 [==============================] - 350s 6s/step - loss: 2.4816 - accuracy: 0.6032 - val_loss: 2.4326 - val_accuracy: 0.5836\n",
      "Epoch 5/70\n",
      "63/62 [==============================] - ETA: -1s - loss: 2.2607 - accuracy: 0.6210\n",
      "Epoch 00005: val_loss did not improve from 2.43264\n",
      "63/62 [==============================] - 347s 6s/step - loss: 2.2607 - accuracy: 0.6210 - val_loss: 2.5102 - val_accuracy: 0.5942\n",
      "Epoch 6/70\n",
      "63/62 [==============================] - ETA: -1s - loss: 2.0508 - accuracy: 0.6582\n",
      "Epoch 00006: val_loss improved from 2.43264 to 2.19250, saving model to C:/Users/Muaaz\\dogs-vs-cats-classifier-3.h5\n",
      "63/62 [==============================] - 354s 6s/step - loss: 2.0508 - accuracy: 0.6582 - val_loss: 2.1925 - val_accuracy: 0.6378\n",
      "Epoch 7/70\n",
      "63/62 [==============================] - ETA: -1s - loss: 1.9648 - accuracy: 0.6319\n",
      "Epoch 00007: val_loss improved from 2.19250 to 1.84635, saving model to C:/Users/Muaaz\\dogs-vs-cats-classifier-3.h5\n",
      "63/62 [==============================] - 349s 6s/step - loss: 1.9648 - accuracy: 0.6319 - val_loss: 1.8463 - val_accuracy: 0.6158\n",
      "Epoch 8/70\n",
      "63/62 [==============================] - ETA: -1s - loss: 1.7994 - accuracy: 0.6369\n",
      "Epoch 00008: val_loss improved from 1.84635 to 1.69637, saving model to C:/Users/Muaaz\\dogs-vs-cats-classifier-3.h5\n",
      "63/62 [==============================] - 344s 5s/step - loss: 1.7994 - accuracy: 0.6369 - val_loss: 1.6964 - val_accuracy: 0.6772\n",
      "Epoch 9/70\n",
      "63/62 [==============================] - ETA: -1s - loss: 1.6807 - accuracy: 0.6612\n",
      "Epoch 00009: val_loss improved from 1.69637 to 1.60122, saving model to C:/Users/Muaaz\\dogs-vs-cats-classifier-3.h5\n",
      "63/62 [==============================] - 347s 6s/step - loss: 1.6807 - accuracy: 0.6612 - val_loss: 1.6012 - val_accuracy: 0.7050\n",
      "Epoch 10/70\n",
      "63/62 [==============================] - ETA: -1s - loss: 1.5524 - accuracy: 0.6815\n",
      "Epoch 00010: val_loss improved from 1.60122 to 1.56590, saving model to C:/Users/Muaaz\\dogs-vs-cats-classifier-3.h5\n",
      "63/62 [==============================] - 363s 6s/step - loss: 1.5524 - accuracy: 0.6815 - val_loss: 1.5659 - val_accuracy: 0.6660\n",
      "Epoch 11/70\n",
      "63/62 [==============================] - ETA: -1s - loss: 1.4341 - accuracy: 0.6796\n",
      "Epoch 00011: val_loss improved from 1.56590 to 1.43420, saving model to C:/Users/Muaaz\\dogs-vs-cats-classifier-3.h5\n",
      "63/62 [==============================] - 387s 6s/step - loss: 1.4341 - accuracy: 0.6796 - val_loss: 1.4342 - val_accuracy: 0.6538\n",
      "Epoch 12/70\n",
      "63/62 [==============================] - ETA: -1s - loss: 1.3267 - accuracy: 0.6895\n",
      "Epoch 00012: val_loss improved from 1.43420 to 1.20589, saving model to C:/Users/Muaaz\\dogs-vs-cats-classifier-3.h5\n",
      "63/62 [==============================] - 374s 6s/step - loss: 1.3267 - accuracy: 0.6895 - val_loss: 1.2059 - val_accuracy: 0.7356\n",
      "Epoch 13/70\n",
      "63/62 [==============================] - ETA: -1s - loss: 1.2884 - accuracy: 0.6811\n",
      "Epoch 00013: val_loss improved from 1.20589 to 1.12066, saving model to C:/Users/Muaaz\\dogs-vs-cats-classifier-3.h5\n",
      "63/62 [==============================] - 341s 5s/step - loss: 1.2884 - accuracy: 0.6811 - val_loss: 1.1207 - val_accuracy: 0.7364\n",
      "Epoch 14/70\n",
      "63/62 [==============================] - ETA: -1s - loss: 1.1822 - accuracy: 0.6979\n",
      "Epoch 00014: val_loss improved from 1.12066 to 1.11160, saving model to C:/Users/Muaaz\\dogs-vs-cats-classifier-3.h5\n",
      "63/62 [==============================] - 346s 5s/step - loss: 1.1822 - accuracy: 0.6979 - val_loss: 1.1116 - val_accuracy: 0.7078\n",
      "Epoch 15/70\n",
      "63/62 [==============================] - ETA: -1s - loss: 1.0926 - accuracy: 0.7088\n",
      "Epoch 00015: val_loss improved from 1.11160 to 1.06182, saving model to C:/Users/Muaaz\\dogs-vs-cats-classifier-3.h5\n",
      "63/62 [==============================] - 352s 6s/step - loss: 1.0926 - accuracy: 0.7088 - val_loss: 1.0618 - val_accuracy: 0.7022\n",
      "Epoch 16/70\n",
      "63/62 [==============================] - ETA: -1s - loss: 1.0164 - accuracy: 0.7168\n",
      "Epoch 00016: ReduceLROnPlateau reducing learning rate to 0.0001500000071246177.\n",
      "\n",
      "Epoch 00016: val_loss improved from 1.06182 to 1.01307, saving model to C:/Users/Muaaz\\dogs-vs-cats-classifier-3.h5\n",
      "63/62 [==============================] - 347s 6s/step - loss: 1.0164 - accuracy: 0.7168 - val_loss: 1.0131 - val_accuracy: 0.7178\n",
      "Epoch 17/70\n",
      "63/62 [==============================] - ETA: -1s - loss: 0.9271 - accuracy: 0.7440\n",
      "Epoch 00017: val_loss improved from 1.01307 to 0.86673, saving model to C:/Users/Muaaz\\dogs-vs-cats-classifier-3.h5\n",
      "63/62 [==============================] - 323s 5s/step - loss: 0.9271 - accuracy: 0.7440 - val_loss: 0.8667 - val_accuracy: 0.7702\n",
      "Epoch 18/70\n",
      "63/62 [==============================] - ETA: -1s - loss: 0.9297 - accuracy: 0.7336\n",
      "Epoch 00018: val_loss improved from 0.86673 to 0.81786, saving model to C:/Users/Muaaz\\dogs-vs-cats-classifier-3.h5\n",
      "63/62 [==============================] - 344s 5s/step - loss: 0.9297 - accuracy: 0.7336 - val_loss: 0.8179 - val_accuracy: 0.7788\n",
      "Epoch 19/70\n",
      "63/62 [==============================] - ETA: -1s - loss: 0.8357 - accuracy: 0.7669\n",
      "Epoch 00019: val_loss improved from 0.81786 to 0.77784, saving model to C:/Users/Muaaz\\dogs-vs-cats-classifier-3.h5\n",
      "63/62 [==============================] - 349s 6s/step - loss: 0.8357 - accuracy: 0.7669 - val_loss: 0.7778 - val_accuracy: 0.7960\n",
      "Epoch 20/70\n",
      "63/62 [==============================] - ETA: -1s - loss: 0.8545 - accuracy: 0.7510\n",
      "Epoch 00020: val_loss did not improve from 0.77784\n",
      "63/62 [==============================] - 341s 5s/step - loss: 0.8545 - accuracy: 0.7510 - val_loss: 0.7882 - val_accuracy: 0.7744\n",
      "Epoch 21/70\n",
      "63/62 [==============================] - ETA: -1s - loss: 0.8080 - accuracy: 0.7614\n",
      "Epoch 00021: val_loss improved from 0.77784 to 0.74010, saving model to C:/Users/Muaaz\\dogs-vs-cats-classifier-3.h5\n",
      "63/62 [==============================] - 318s 5s/step - loss: 0.8080 - accuracy: 0.7614 - val_loss: 0.7401 - val_accuracy: 0.7940\n",
      "Epoch 22/70\n",
      "63/62 [==============================] - ETA: -1s - loss: 0.7822 - accuracy: 0.7822\n",
      "Epoch 00022: ReduceLROnPlateau reducing learning rate to 7.500000356230885e-05.\n",
      "\n",
      "Epoch 00022: val_loss improved from 0.74010 to 0.73756, saving model to C:/Users/Muaaz\\dogs-vs-cats-classifier-3.h5\n",
      "63/62 [==============================] - 308s 5s/step - loss: 0.7822 - accuracy: 0.7822 - val_loss: 0.7376 - val_accuracy: 0.7828\n",
      "Epoch 23/70\n",
      "63/62 [==============================] - ETA: -1s - loss: 0.7377 - accuracy: 0.7748\n",
      "Epoch 00023: val_loss improved from 0.73756 to 0.68919, saving model to C:/Users/Muaaz\\dogs-vs-cats-classifier-3.h5\n",
      "63/62 [==============================] - 311s 5s/step - loss: 0.7377 - accuracy: 0.7748 - val_loss: 0.6892 - val_accuracy: 0.8090\n",
      "Epoch 24/70\n",
      "63/62 [==============================] - ETA: -1s - loss: 0.7391 - accuracy: 0.7862\n",
      "Epoch 00024: val_loss improved from 0.68919 to 0.67399, saving model to C:/Users/Muaaz\\dogs-vs-cats-classifier-3.h5\n",
      "63/62 [==============================] - 315s 5s/step - loss: 0.7391 - accuracy: 0.7862 - val_loss: 0.6740 - val_accuracy: 0.8158\n"
     ]
    },
    {
     "name": "stdout",
     "output_type": "stream",
     "text": [
      "Epoch 25/70\n",
      "63/62 [==============================] - ETA: -1s - loss: 0.7494 - accuracy: 0.7644\n",
      "Epoch 00025: val_loss improved from 0.67399 to 0.65785, saving model to C:/Users/Muaaz\\dogs-vs-cats-classifier-3.h5\n",
      "63/62 [==============================] - 316s 5s/step - loss: 0.7494 - accuracy: 0.7644 - val_loss: 0.6579 - val_accuracy: 0.8204\n",
      "Epoch 26/70\n",
      "63/62 [==============================] - ETA: -1s - loss: 0.7203 - accuracy: 0.7852\n",
      "Epoch 00026: val_loss improved from 0.65785 to 0.64865, saving model to C:/Users/Muaaz\\dogs-vs-cats-classifier-3.h5\n",
      "63/62 [==============================] - 335s 5s/step - loss: 0.7203 - accuracy: 0.7852 - val_loss: 0.6486 - val_accuracy: 0.8198\n",
      "Epoch 27/70\n",
      "63/62 [==============================] - ETA: -1s - loss: 0.6640 - accuracy: 0.8160\n",
      "Epoch 00027: val_loss did not improve from 0.64865\n",
      "63/62 [==============================] - 343s 5s/step - loss: 0.6640 - accuracy: 0.8160 - val_loss: 0.6858 - val_accuracy: 0.8030\n",
      "Epoch 28/70\n",
      "63/62 [==============================] - ETA: -1s - loss: 0.6873 - accuracy: 0.7932\n",
      "Epoch 00028: ReduceLROnPlateau reducing learning rate to 3.7500001781154424e-05.\n",
      "\n",
      "Epoch 00028: val_loss did not improve from 0.64865\n",
      "63/62 [==============================] - 340s 5s/step - loss: 0.6873 - accuracy: 0.7932 - val_loss: 0.6814 - val_accuracy: 0.7954\n",
      "Epoch 29/70\n",
      "63/62 [==============================] - ETA: -1s - loss: 0.6791 - accuracy: 0.8001\n",
      "Epoch 00029: val_loss improved from 0.64865 to 0.62240, saving model to C:/Users/Muaaz\\dogs-vs-cats-classifier-3.h5\n",
      "63/62 [==============================] - 338s 5s/step - loss: 0.6791 - accuracy: 0.8001 - val_loss: 0.6224 - val_accuracy: 0.8254\n",
      "Epoch 30/70\n",
      "63/62 [==============================] - ETA: -1s - loss: 0.6536 - accuracy: 0.8145\n",
      "Epoch 00030: val_loss improved from 0.62240 to 0.61957, saving model to C:/Users/Muaaz\\dogs-vs-cats-classifier-3.h5\n",
      "63/62 [==============================] - 336s 5s/step - loss: 0.6536 - accuracy: 0.8145 - val_loss: 0.6196 - val_accuracy: 0.8252\n",
      "Epoch 31/70\n",
      "63/62 [==============================] - ETA: -1s - loss: 0.6592 - accuracy: 0.8075\n",
      "Epoch 00031: val_loss did not improve from 0.61957\n",
      "63/62 [==============================] - 4226s 67s/step - loss: 0.6592 - accuracy: 0.8075 - val_loss: 0.6230 - val_accuracy: 0.8186\n",
      "Epoch 32/70\n",
      "63/62 [==============================] - ETA: -1s - loss: 0.6788 - accuracy: 0.7902\n",
      "Epoch 00032: ReduceLROnPlateau reducing learning rate to 1.8750000890577212e-05.\n",
      "\n",
      "Epoch 00032: val_loss improved from 0.61957 to 0.61744, saving model to C:/Users/Muaaz\\dogs-vs-cats-classifier-3.h5\n",
      "63/62 [==============================] - 342s 5s/step - loss: 0.6788 - accuracy: 0.7902 - val_loss: 0.6174 - val_accuracy: 0.8202\n",
      "Epoch 33/70\n",
      "63/62 [==============================] - ETA: -1s - loss: 0.6393 - accuracy: 0.8150\n",
      "Epoch 00033: val_loss improved from 0.61744 to 0.59775, saving model to C:/Users/Muaaz\\dogs-vs-cats-classifier-3.h5\n",
      "63/62 [==============================] - 340s 5s/step - loss: 0.6393 - accuracy: 0.8150 - val_loss: 0.5977 - val_accuracy: 0.8346\n",
      "Epoch 34/70\n",
      "63/62 [==============================] - ETA: -1s - loss: 0.6098 - accuracy: 0.8165\n",
      "Epoch 00034: val_loss did not improve from 0.59775\n",
      "63/62 [==============================] - 338s 5s/step - loss: 0.6098 - accuracy: 0.8165 - val_loss: 0.5992 - val_accuracy: 0.8294\n",
      "Epoch 35/70\n",
      "63/62 [==============================] - ETA: -1s - loss: 0.6379 - accuracy: 0.8140\n",
      "Epoch 00035: val_loss improved from 0.59775 to 0.58965, saving model to C:/Users/Muaaz\\dogs-vs-cats-classifier-3.h5\n",
      "63/62 [==============================] - 334s 5s/step - loss: 0.6379 - accuracy: 0.8140 - val_loss: 0.5896 - val_accuracy: 0.8362\n",
      "Epoch 36/70\n",
      "63/62 [==============================] - ETA: -1s - loss: 0.6171 - accuracy: 0.8234\n",
      "Epoch 00036: val_loss improved from 0.58965 to 0.58280, saving model to C:/Users/Muaaz\\dogs-vs-cats-classifier-3.h5\n",
      "63/62 [==============================] - 327s 5s/step - loss: 0.6171 - accuracy: 0.8234 - val_loss: 0.5828 - val_accuracy: 0.8406\n",
      "Epoch 37/70\n",
      "63/62 [==============================] - ETA: -1s - loss: 0.6394 - accuracy: 0.8090\n",
      "Epoch 00037: val_loss improved from 0.58280 to 0.58208, saving model to C:/Users/Muaaz\\dogs-vs-cats-classifier-3.h5\n",
      "63/62 [==============================] - 329s 5s/step - loss: 0.6394 - accuracy: 0.8090 - val_loss: 0.5821 - val_accuracy: 0.8376\n",
      "Epoch 38/70\n",
      "63/62 [==============================] - ETA: -1s - loss: 0.6156 - accuracy: 0.8160\n",
      "Epoch 00038: val_loss did not improve from 0.58208\n",
      "63/62 [==============================] - 347s 6s/step - loss: 0.6156 - accuracy: 0.8160 - val_loss: 0.5900 - val_accuracy: 0.8316\n",
      "Epoch 39/70\n",
      "63/62 [==============================] - ETA: -1s - loss: 0.6016 - accuracy: 0.8239\n",
      "Epoch 00039: ReduceLROnPlateau reducing learning rate to 1e-05.\n",
      "\n",
      "Epoch 00039: val_loss did not improve from 0.58208\n",
      "63/62 [==============================] - 353s 6s/step - loss: 0.6016 - accuracy: 0.8239 - val_loss: 0.5860 - val_accuracy: 0.8356\n",
      "Epoch 40/70\n",
      "63/62 [==============================] - ETA: -1s - loss: 0.6323 - accuracy: 0.8254\n",
      "Epoch 00040: val_loss improved from 0.58208 to 0.56467, saving model to C:/Users/Muaaz\\dogs-vs-cats-classifier-3.h5\n",
      "63/62 [==============================] - 345s 5s/step - loss: 0.6323 - accuracy: 0.8254 - val_loss: 0.5647 - val_accuracy: 0.8440\n",
      "Epoch 41/70\n",
      "63/62 [==============================] - ETA: -1s - loss: 0.6271 - accuracy: 0.8031\n",
      "Epoch 00041: val_loss improved from 0.56467 to 0.56183, saving model to C:/Users/Muaaz\\dogs-vs-cats-classifier-3.h5\n",
      "63/62 [==============================] - 359s 6s/step - loss: 0.6271 - accuracy: 0.8031 - val_loss: 0.5618 - val_accuracy: 0.8498\n",
      "Epoch 42/70\n",
      "63/62 [==============================] - ETA: -1s - loss: 0.5996 - accuracy: 0.8289\n",
      "Epoch 00042: val_loss improved from 0.56183 to 0.56062, saving model to C:/Users/Muaaz\\dogs-vs-cats-classifier-3.h5\n",
      "63/62 [==============================] - 354s 6s/step - loss: 0.5996 - accuracy: 0.8289 - val_loss: 0.5606 - val_accuracy: 0.8446\n",
      "Epoch 43/70\n",
      "63/62 [==============================] - ETA: -1s - loss: 0.6199 - accuracy: 0.8199\n",
      "Epoch 00043: val_loss did not improve from 0.56062\n",
      "63/62 [==============================] - 325s 5s/step - loss: 0.6199 - accuracy: 0.8199 - val_loss: 0.5617 - val_accuracy: 0.8454\n",
      "Epoch 44/70\n",
      "63/62 [==============================] - ETA: -1s - loss: 0.6045 - accuracy: 0.8259\n",
      "Epoch 00044: val_loss improved from 0.56062 to 0.55847, saving model to C:/Users/Muaaz\\dogs-vs-cats-classifier-3.h5\n",
      "63/62 [==============================] - 342s 5s/step - loss: 0.6045 - accuracy: 0.8259 - val_loss: 0.5585 - val_accuracy: 0.8486\n",
      "Epoch 45/70\n",
      "63/62 [==============================] - ETA: -1s - loss: 0.6338 - accuracy: 0.8070\n",
      "Epoch 00045: val_loss did not improve from 0.55847\n",
      "63/62 [==============================] - 360s 6s/step - loss: 0.6338 - accuracy: 0.8070 - val_loss: 0.5655 - val_accuracy: 0.8464\n",
      "Epoch 46/70\n",
      "63/62 [==============================] - ETA: -1s - loss: 0.6026 - accuracy: 0.8219\n",
      "Epoch 00046: val_loss improved from 0.55847 to 0.55766, saving model to C:/Users/Muaaz\\dogs-vs-cats-classifier-3.h5\n",
      "63/62 [==============================] - 349s 6s/step - loss: 0.6026 - accuracy: 0.8219 - val_loss: 0.5577 - val_accuracy: 0.8486\n",
      "Epoch 47/70\n",
      "63/62 [==============================] - ETA: -1s - loss: 0.6206 - accuracy: 0.8189\n",
      "Epoch 00047: val_loss improved from 0.55766 to 0.55122, saving model to C:/Users/Muaaz\\dogs-vs-cats-classifier-3.h5\n",
      "63/62 [==============================] - 354s 6s/step - loss: 0.6206 - accuracy: 0.8189 - val_loss: 0.5512 - val_accuracy: 0.8496\n",
      "Epoch 48/70\n",
      "63/62 [==============================] - ETA: -1s - loss: 0.6130 - accuracy: 0.8135\n",
      "Epoch 00048: val_loss did not improve from 0.55122\n",
      "63/62 [==============================] - 327s 5s/step - loss: 0.6130 - accuracy: 0.8135 - val_loss: 0.5722 - val_accuracy: 0.8438\n",
      "Epoch 49/70\n",
      "63/62 [==============================] - ETA: -1s - loss: 0.5902 - accuracy: 0.8328\n",
      "Epoch 00049: val_loss did not improve from 0.55122\n",
      "63/62 [==============================] - 327s 5s/step - loss: 0.5902 - accuracy: 0.8328 - val_loss: 0.5634 - val_accuracy: 0.8448\n",
      "Epoch 50/70\n",
      "63/62 [==============================] - ETA: -1s - loss: 0.6144 - accuracy: 0.8155\n",
      "Epoch 00050: val_loss did not improve from 0.55122\n",
      "63/62 [==============================] - 328s 5s/step - loss: 0.6144 - accuracy: 0.8155 - val_loss: 0.5549 - val_accuracy: 0.8482\n"
     ]
    }
   ],
   "source": [
    "batchsize = 32\n",
    "history = model.fit(train_datagen.flow_from_directory('C:/Users/Muaaz/dogs-vs-cats-redux-kernels-edition/train/', \n",
    "                                                      batch_size = batchsize,\n",
    "                                                      target_size=(256, 256),\n",
    "                                                     class_mode = 'binary'),\n",
    "                    validation_data = valid_datagen.flow_from_directory('C:/Users/Muaaz/dogs-vs-cats-redux-kernels-edition/validation/',\n",
    "                                                     batch_size = batchsize,\n",
    "                                                     target_size = (256,256),\n",
    "                                                     class_mode = 'binary'),\n",
    "                    steps_per_epoch = len(train_fnames)/10/batchsize,\n",
    "                    callbacks = [my_callback_es , my_callback_rlr, checkpoint],\n",
    "                    epochs = 70\n",
    "                   )"
   ]
  },
  {
   "cell_type": "code",
   "execution_count": null,
   "metadata": {},
   "outputs": [],
   "source": [
    "score = model.evaluate(verbose=0)\n",
    "print('Test loss:', score[0])\n",
    "print('Test accuracy:', score[1])"
   ]
  },
  {
   "cell_type": "code",
   "execution_count": 57,
   "metadata": {},
   "outputs": [
    {
     "data": {
      "text/plain": [
       "[]"
      ]
     },
     "execution_count": 57,
     "metadata": {},
     "output_type": "execute_result"
    },
    {
     "data": {
      "image/png": "[encoded data removed]",
      "text/plain": [
       "<Figure size 432x288 with 1 Axes>"
      ]
     },
     "metadata": {
      "needs_background": "light"
     },
     "output_type": "display_data"
    }
   ],
   "source": [
    "plt.xlabel('epochs')\n",
    "plt.ylabel('loss')\n",
    "plt.plot(history.history['loss'], label = 'loss')\n",
    "plt.plot(history.history['val_loss'], label = 'validation_loss')\n",
    "plt.legend()\n",
    "plt.plot()"
   ]
  },
  {
   "cell_type": "code",
   "execution_count": 59,
   "metadata": {},
   "outputs": [
    {
     "data": {
      "text/plain": [
       "[]"
      ]
     },
     "execution_count": 59,
     "metadata": {},
     "output_type": "execute_result"
    },
    {
     "data": {
      "image/png": "[encoded data removed]",
      "text/plain": [
       "<Figure size 432x288 with 1 Axes>"
      ]
     },
     "metadata": {
      "needs_background": "light"
     },
     "output_type": "display_data"
    }
   ],
   "source": [
    "plt.xlabel('epochs')\n",
    "plt.ylabel('val_accuracy')\n",
    "plt.plot(history.history['val_accuracy'], label = 'val_accuracy')\n",
    "plt.plot(history.history['accuracy'], label = 'accuracy')\n",
    "plt.legend()\n",
    "plt.plot()"
   ]
  },
  {
   "cell_type": "code",
   "execution_count": 7,
   "metadata": {},
   "outputs": [],
   "source": [
    "model.load_weights(\"C:/Users/Muaaz/dogs-vs-cats-classifier-3.h5\")"
   ]
  },
  {
   "cell_type": "code",
   "execution_count": 13,
   "metadata": {},
   "outputs": [
    {
     "name": "stdout",
     "output_type": "stream",
     "text": [
      "Found 20000 images belonging to 2 classes.\n",
      "Found 5000 images belonging to 2 classes.\n",
      "Epoch 1/10\n",
      "63/62 [==============================] - ETA: -1s - loss: 0.4124 - accuracy: 0.8383\n",
      "Epoch 00001: val_loss improved from inf to 0.40139, saving model to C:/Users/Muaaz\\dogs-vs-cats-classifier-3.h5\n",
      "63/62 [==============================] - 340s 5s/step - loss: 0.4124 - accuracy: 0.8383 - val_loss: 0.4014 - val_accuracy: 0.8332\n",
      "Epoch 2/10\n",
      "63/62 [==============================] - ETA: -1s - loss: 0.3813 - accuracy: 0.8527\n",
      "Epoch 00002: val_loss improved from 0.40139 to 0.36129, saving model to C:/Users/Muaaz\\dogs-vs-cats-classifier-3.h5\n",
      "63/62 [==============================] - 316s 5s/step - loss: 0.3813 - accuracy: 0.8527 - val_loss: 0.3613 - val_accuracy: 0.8602\n",
      "Epoch 3/10\n",
      "63/62 [==============================] - ETA: -1s - loss: 0.3407 - accuracy: 0.8636\n",
      "Epoch 00003: val_loss did not improve from 0.36129\n",
      "63/62 [==============================] - 317s 5s/step - loss: 0.3407 - accuracy: 0.8636 - val_loss: 0.3953 - val_accuracy: 0.8408\n",
      "Epoch 4/10\n",
      "63/62 [==============================] - ETA: -1s - loss: 0.3821 - accuracy: 0.8472\n",
      "Epoch 00004: val_loss did not improve from 0.36129\n",
      "63/62 [==============================] - 315s 5s/step - loss: 0.3821 - accuracy: 0.8472 - val_loss: 0.3696 - val_accuracy: 0.8526\n",
      "Epoch 5/10\n",
      "63/62 [==============================] - ETA: -1s - loss: 0.3678 - accuracy: 0.8537\n",
      "Epoch 00005: ReduceLROnPlateau reducing learning rate to 0.0002500000118743628.\n",
      "\n",
      "Epoch 00005: val_loss did not improve from 0.36129\n",
      "63/62 [==============================] - 317s 5s/step - loss: 0.3678 - accuracy: 0.8537 - val_loss: 0.4736 - val_accuracy: 0.8028\n",
      "Epoch 6/10\n",
      "63/62 [==============================] - ETA: -1s - loss: 0.3234 - accuracy: 0.8755\n",
      "Epoch 00006: val_loss improved from 0.36129 to 0.30006, saving model to C:/Users/Muaaz\\dogs-vs-cats-classifier-3.h5\n",
      "63/62 [==============================] - 317s 5s/step - loss: 0.3234 - accuracy: 0.8755 - val_loss: 0.3001 - val_accuracy: 0.8888\n",
      "Epoch 7/10\n",
      "63/62 [==============================] - ETA: -1s - loss: 0.2965 - accuracy: 0.8869\n",
      "Epoch 00007: val_loss improved from 0.30006 to 0.29380, saving model to C:/Users/Muaaz\\dogs-vs-cats-classifier-3.h5\n",
      "63/62 [==============================] - 312s 5s/step - loss: 0.2965 - accuracy: 0.8869 - val_loss: 0.2938 - val_accuracy: 0.8872\n",
      "Epoch 8/10\n",
      "63/62 [==============================] - ETA: -1s - loss: 0.2969 - accuracy: 0.8869\n",
      "Epoch 00008: val_loss did not improve from 0.29380\n",
      "63/62 [==============================] - 315s 5s/step - loss: 0.2969 - accuracy: 0.8869 - val_loss: 0.2966 - val_accuracy: 0.8852\n",
      "Epoch 9/10\n",
      "63/62 [==============================] - ETA: -1s - loss: 0.2985 - accuracy: 0.8829\n",
      "Epoch 00009: val_loss improved from 0.29380 to 0.26825, saving model to C:/Users/Muaaz\\dogs-vs-cats-classifier-3.h5\n",
      "63/62 [==============================] - 315s 5s/step - loss: 0.2985 - accuracy: 0.8829 - val_loss: 0.2682 - val_accuracy: 0.8946\n",
      "Epoch 10/10\n",
      "63/62 [==============================] - ETA: -1s - loss: 0.2881 - accuracy: 0.8864\n",
      "Epoch 00010: val_loss did not improve from 0.26825\n",
      "63/62 [==============================] - 318s 5s/step - loss: 0.2881 - accuracy: 0.8864 - val_loss: 0.3200 - val_accuracy: 0.8788\n"
     ]
    }
   ],
   "source": [
    "batchsize = 32\n",
    "history = model.fit(train_datagen.flow_from_directory('C:/Users/Muaaz/dogs-vs-cats-redux-kernels-edition/train/', \n",
    "                                                      batch_size = batchsize,\n",
    "                                                      target_size=(256, 256),\n",
    "                                                     class_mode = 'binary'),\n",
    "                    validation_data = valid_datagen.flow_from_directory('C:/Users/Muaaz/dogs-vs-cats-redux-kernels-edition/validation/',\n",
    "                                                     batch_size = batchsize,\n",
    "                                                     target_size = (256,256),\n",
    "                                                     class_mode = 'binary'),\n",
    "                    steps_per_epoch = len(train_fnames)/10/batchsize,\n",
    "                    callbacks = [my_callback_es , my_callback_rlr, checkpoint],\n",
    "                    epochs = 10\n",
    "                   )"
   ]
  },
  {
   "cell_type": "code",
   "execution_count": 9,
   "metadata": {},
   "outputs": [],
   "source": [
    "model.save('C:/Users/Muaaz/dogs-vs-cats-classifier-3.h5')"
   ]
  },
  {
   "cell_type": "code",
   "execution_count": 10,
   "metadata": {},
   "outputs": [],
   "source": [
    "model.load_weights(\"C:/Users/Muaaz/dogs-vs-cats-classifier-3.h5\")"
   ]
  },
  {
   "cell_type": "code",
   "execution_count": 11,
   "metadata": {},
   "outputs": [
    {
     "name": "stdout",
     "output_type": "stream",
     "text": [
      "Found 20000 images belonging to 2 classes.\n",
      "Found 5000 images belonging to 2 classes.\n",
      "Epoch 1/20\n",
      "63/62 [==============================] - ETA: -1s - loss: 0.2549 - accuracy: 0.9033\n",
      "Epoch 00001: val_loss did not improve from 0.22408\n",
      "63/62 [==============================] - 317s 5s/step - loss: 0.2549 - accuracy: 0.9033 - val_loss: 0.2381 - val_accuracy: 0.9108\n",
      "Epoch 2/20\n",
      "63/62 [==============================] - ETA: -1s - loss: 0.2535 - accuracy: 0.9033\n",
      "Epoch 00002: val_loss did not improve from 0.22408\n",
      "63/62 [==============================] - 317s 5s/step - loss: 0.2535 - accuracy: 0.9033 - val_loss: 0.2242 - val_accuracy: 0.9124\n",
      "Epoch 3/20\n",
      "63/62 [==============================] - ETA: -1s - loss: 0.2399 - accuracy: 0.9087\n",
      "Epoch 00003: val_loss improved from 0.22408 to 0.20030, saving model to C:/Users/Muaaz\\dogs-vs-cats-classifier-3.h5\n",
      "63/62 [==============================] - 315s 5s/step - loss: 0.2399 - accuracy: 0.9087 - val_loss: 0.2003 - val_accuracy: 0.9256\n",
      "Epoch 4/20\n",
      "63/62 [==============================] - ETA: -1s - loss: 0.2413 - accuracy: 0.9167\n",
      "Epoch 00004: val_loss did not improve from 0.20030\n",
      "63/62 [==============================] - 315s 5s/step - loss: 0.2413 - accuracy: 0.9167 - val_loss: 0.2647 - val_accuracy: 0.8910\n",
      "Epoch 5/20\n",
      "63/62 [==============================] - ETA: -1s - loss: 0.2394 - accuracy: 0.9033\n",
      "Epoch 00005: val_loss did not improve from 0.20030\n",
      "63/62 [==============================] - 314s 5s/step - loss: 0.2394 - accuracy: 0.9033 - val_loss: 0.2325 - val_accuracy: 0.9128\n",
      "Epoch 6/20\n",
      "63/62 [==============================] - ETA: -1s - loss: 0.2423 - accuracy: 0.9162\n",
      "Epoch 00006: ReduceLROnPlateau reducing learning rate to 0.0001250000059371814.\n",
      "\n",
      "Epoch 00006: val_loss did not improve from 0.20030\n",
      "63/62 [==============================] - 315s 5s/step - loss: 0.2423 - accuracy: 0.9162 - val_loss: 0.2299 - val_accuracy: 0.9160\n",
      "Epoch 7/20\n",
      "63/62 [==============================] - ETA: -1s - loss: 0.2171 - accuracy: 0.9201\n",
      "Epoch 00007: val_loss improved from 0.20030 to 0.19627, saving model to C:/Users/Muaaz\\dogs-vs-cats-classifier-3.h5\n",
      "63/62 [==============================] - 315s 5s/step - loss: 0.2171 - accuracy: 0.9201 - val_loss: 0.1963 - val_accuracy: 0.9272\n",
      "Epoch 8/20\n",
      "63/62 [==============================] - ETA: -1s - loss: 0.2281 - accuracy: 0.9117\n",
      "Epoch 00008: val_loss improved from 0.19627 to 0.19081, saving model to C:/Users/Muaaz\\dogs-vs-cats-classifier-3.h5\n",
      "63/62 [==============================] - 312s 5s/step - loss: 0.2281 - accuracy: 0.9117 - val_loss: 0.1908 - val_accuracy: 0.9318\n",
      "Epoch 9/20\n",
      "63/62 [==============================] - ETA: -1s - loss: 0.2413 - accuracy: 0.9008\n",
      "Epoch 00009: val_loss did not improve from 0.19081\n",
      "63/62 [==============================] - 311s 5s/step - loss: 0.2413 - accuracy: 0.9008 - val_loss: 0.1926 - val_accuracy: 0.9296\n",
      "Epoch 10/20\n",
      "63/62 [==============================] - ETA: -1s - loss: 0.2164 - accuracy: 0.9157\n",
      "Epoch 00010: val_loss did not improve from 0.19081\n",
      "63/62 [==============================] - 311s 5s/step - loss: 0.2164 - accuracy: 0.9157 - val_loss: 0.2138 - val_accuracy: 0.9206\n",
      "Epoch 11/20\n",
      "63/62 [==============================] - ETA: -1s - loss: 0.2058 - accuracy: 0.9241\n",
      "Epoch 00011: ReduceLROnPlateau reducing learning rate to 6.25000029685907e-05.\n",
      "\n",
      "Epoch 00011: val_loss did not improve from 0.19081\n",
      "63/62 [==============================] - 311s 5s/step - loss: 0.2058 - accuracy: 0.9241 - val_loss: 0.1933 - val_accuracy: 0.9286\n",
      "Epoch 12/20\n",
      "63/62 [==============================] - ETA: -1s - loss: 0.1996 - accuracy: 0.9182\n",
      "Epoch 00012: val_loss improved from 0.19081 to 0.18075, saving model to C:/Users/Muaaz\\dogs-vs-cats-classifier-3.h5\n",
      "63/62 [==============================] - 311s 5s/step - loss: 0.1996 - accuracy: 0.9182 - val_loss: 0.1807 - val_accuracy: 0.9344\n",
      "Epoch 13/20\n",
      "63/62 [==============================] - ETA: -1s - loss: 0.1812 - accuracy: 0.9306\n",
      "Epoch 00013: val_loss improved from 0.18075 to 0.17231, saving model to C:/Users/Muaaz\\dogs-vs-cats-classifier-3.h5\n",
      "63/62 [==============================] - 311s 5s/step - loss: 0.1812 - accuracy: 0.9306 - val_loss: 0.1723 - val_accuracy: 0.9348\n",
      "Epoch 14/20\n",
      "63/62 [==============================] - ETA: -1s - loss: 0.1851 - accuracy: 0.9256\n",
      "Epoch 00014: val_loss did not improve from 0.17231\n",
      "63/62 [==============================] - 311s 5s/step - loss: 0.1851 - accuracy: 0.9256 - val_loss: 0.1840 - val_accuracy: 0.9312\n",
      "Epoch 15/20\n",
      "63/62 [==============================] - ETA: -1s - loss: 0.2371 - accuracy: 0.9038\n",
      "Epoch 00015: val_loss did not improve from 0.17231\n",
      "63/62 [==============================] - 310s 5s/step - loss: 0.2371 - accuracy: 0.9038 - val_loss: 0.1843 - val_accuracy: 0.9306\n",
      "Epoch 16/20\n",
      "63/62 [==============================] - ETA: -1s - loss: 0.1839 - accuracy: 0.9306\n",
      "Epoch 00016: ReduceLROnPlateau reducing learning rate to 3.125000148429535e-05.\n",
      "\n",
      "Epoch 00016: val_loss did not improve from 0.17231\n",
      "63/62 [==============================] - 310s 5s/step - loss: 0.1839 - accuracy: 0.9306 - val_loss: 0.1781 - val_accuracy: 0.9336\n",
      "Epoch 17/20\n",
      "63/62 [==============================] - ETA: -1s - loss: 0.1937 - accuracy: 0.9340\n",
      "Epoch 00017: val_loss did not improve from 0.17231\n",
      "63/62 [==============================] - 310s 5s/step - loss: 0.1937 - accuracy: 0.9340 - val_loss: 0.1744 - val_accuracy: 0.9314\n",
      "Epoch 18/20\n",
      "63/62 [==============================] - ETA: -1s - loss: 0.1973 - accuracy: 0.9261\n",
      "Epoch 00018: val_loss did not improve from 0.17231\n",
      "63/62 [==============================] - 313s 5s/step - loss: 0.1973 - accuracy: 0.9261 - val_loss: 0.1773 - val_accuracy: 0.9310\n"
     ]
    }
   ],
   "source": [
    "batchsize = 32\n",
    "history = model.fit(train_datagen.flow_from_directory('C:/Users/Muaaz/dogs-vs-cats-redux-kernels-edition/train/', \n",
    "                                                      batch_size = batchsize,\n",
    "                                                      target_size=(256, 256),\n",
    "                                                     class_mode = 'binary'),\n",
    "                    validation_data = valid_datagen.flow_from_directory('C:/Users/Muaaz/dogs-vs-cats-redux-kernels-edition/validation/',\n",
    "                                                     batch_size = batchsize,\n",
    "                                                     target_size = (256,256),\n",
    "                                                     class_mode = 'binary'),\n",
    "                    steps_per_epoch = len(train_fnames)/10/batchsize,\n",
    "                    callbacks = [my_callback_es , my_callback_rlr, checkpoint],\n",
    "                    epochs = 20\n",
    "                   )"
   ]
  },
  {
   "cell_type": "code",
   "execution_count": 16,
   "metadata": {},
   "outputs": [],
   "source": [
    "model.save('C:/Users/Muaaz/dogs-vs-cats-classifier-3.h5')"
   ]
  },
  {
   "cell_type": "code",
   "execution_count": 13,
   "metadata": {},
   "outputs": [],
   "source": [
    "model.load_weights(\"C:/Users/Muaaz/dogs-vs-cats-classifier-3.h5\")"
   ]
  },
  {
   "cell_type": "code",
   "execution_count": 15,
   "metadata": {},
   "outputs": [
    {
     "name": "stdout",
     "output_type": "stream",
     "text": [
      "Found 20000 images belonging to 2 classes.\n",
      "Found 5000 images belonging to 2 classes.\n",
      "Epoch 1/10\n",
      "63/62 [==============================] - ETA: -1s - loss: 0.1885 - accuracy: 0.9191\n",
      "Epoch 00001: val_loss did not improve from 0.17231\n",
      "63/62 [==============================] - 318s 5s/step - loss: 0.1885 - accuracy: 0.9191 - val_loss: 0.1729 - val_accuracy: 0.9378\n",
      "Epoch 2/10\n",
      "63/62 [==============================] - ETA: -1s - loss: 0.2269 - accuracy: 0.9132\n",
      "Epoch 00002: val_loss did not improve from 0.17231\n",
      "63/62 [==============================] - 320s 5s/step - loss: 0.2269 - accuracy: 0.9132 - val_loss: 0.1731 - val_accuracy: 0.9390\n",
      "Epoch 3/10\n",
      "63/62 [==============================] - ETA: -1s - loss: 0.2022 - accuracy: 0.9291\n",
      "Epoch 00003: val_loss did not improve from 0.17231\n",
      "63/62 [==============================] - 319s 5s/step - loss: 0.2022 - accuracy: 0.9291 - val_loss: 0.1764 - val_accuracy: 0.9366\n",
      "Epoch 4/10\n",
      "63/62 [==============================] - ETA: -1s - loss: 0.1747 - accuracy: 0.9325\n",
      "Epoch 00004: val_loss did not improve from 0.17231\n",
      "63/62 [==============================] - 319s 5s/step - loss: 0.1747 - accuracy: 0.9325 - val_loss: 0.1785 - val_accuracy: 0.9376\n",
      "Epoch 5/10\n",
      "63/62 [==============================] - ETA: -1s - loss: 0.1868 - accuracy: 0.9325\n",
      "Epoch 00005: ReduceLROnPlateau reducing learning rate to 1.5625000742147677e-05.\n",
      "\n",
      "Epoch 00005: val_loss did not improve from 0.17231\n",
      "63/62 [==============================] - 318s 5s/step - loss: 0.1868 - accuracy: 0.9325 - val_loss: 0.1738 - val_accuracy: 0.9312\n",
      "Epoch 6/10\n",
      "63/62 [==============================] - ETA: -1s - loss: 0.1818 - accuracy: 0.9276\n",
      "Epoch 00006: val_loss improved from 0.17231 to 0.16596, saving model to C:/Users/Muaaz\\dogs-vs-cats-classifier-3.h5\n",
      "63/62 [==============================] - 318s 5s/step - loss: 0.1818 - accuracy: 0.9276 - val_loss: 0.1660 - val_accuracy: 0.9338\n",
      "Epoch 7/10\n",
      "63/62 [==============================] - ETA: -1s - loss: 0.1984 - accuracy: 0.9241\n",
      "Epoch 00007: val_loss did not improve from 0.16596\n",
      "63/62 [==============================] - 314s 5s/step - loss: 0.1984 - accuracy: 0.9241 - val_loss: 0.1675 - val_accuracy: 0.9408\n",
      "Epoch 8/10\n",
      "63/62 [==============================] - ETA: -1s - loss: 0.1802 - accuracy: 0.9335\n",
      "Epoch 00008: val_loss did not improve from 0.16596\n",
      "63/62 [==============================] - 315s 5s/step - loss: 0.1802 - accuracy: 0.9335 - val_loss: 0.1710 - val_accuracy: 0.9378\n",
      "Epoch 9/10\n",
      "63/62 [==============================] - ETA: -1s - loss: 0.2034 - accuracy: 0.9231\n",
      "Epoch 00009: val_loss did not improve from 0.16596\n",
      "63/62 [==============================] - 311s 5s/step - loss: 0.2034 - accuracy: 0.9231 - val_loss: 0.1695 - val_accuracy: 0.9364\n",
      "Epoch 10/10\n",
      "63/62 [==============================] - ETA: -1s - loss: 0.1930 - accuracy: 0.9276\n",
      "Epoch 00010: ReduceLROnPlateau reducing learning rate to 1e-05.\n",
      "\n",
      "Epoch 00010: val_loss did not improve from 0.16596\n",
      "63/62 [==============================] - 312s 5s/step - loss: 0.1930 - accuracy: 0.9276 - val_loss: 0.1702 - val_accuracy: 0.9368\n"
     ]
    }
   ],
   "source": [
    "batchsize = 32\n",
    "history = model.fit(train_datagen.flow_from_directory('C:/Users/Muaaz/dogs-vs-cats-redux-kernels-edition/train/', \n",
    "                                                      batch_size = batchsize,\n",
    "                                                      target_size=(256, 256),\n",
    "                                                     class_mode = 'binary'),\n",
    "                    validation_data = valid_datagen.flow_from_directory('C:/Users/Muaaz/dogs-vs-cats-redux-kernels-edition/validation/',\n",
    "                                                     batch_size = batchsize,\n",
    "                                                     target_size = (256,256),\n",
    "                                                     class_mode = 'binary'),\n",
    "                    steps_per_epoch = len(train_fnames)/10/batchsize,\n",
    "                    callbacks = [my_callback_es , my_callback_rlr, checkpoint],\n",
    "                    epochs = 10\n",
    "                   )"
   ]
  },
  {
   "cell_type": "code",
   "execution_count": 17,
   "metadata": {},
   "outputs": [
    {
     "data": {
      "text/plain": [
       "[]"
      ]
     },
     "execution_count": 17,
     "metadata": {},
     "output_type": "execute_result"
    },
    {
     "data": {
      "image/png": "[encoded data removed]",
      "text/plain": [
       "<Figure size 432x288 with 1 Axes>"
      ]
     },
     "metadata": {
      "needs_background": "light"
     },
     "output_type": "display_data"
    }
   ],
   "source": [
    "plt.xlabel('epochs')\n",
    "plt.ylabel('loss')\n",
    "plt.plot(history.history['loss'], label = 'loss')\n",
    "plt.plot(history.history['val_loss'], label = 'validation_loss')\n",
    "plt.legend()\n",
    "plt.plot()"
   ]
  },
  {
   "cell_type": "code",
   "execution_count": 18,
   "metadata": {},
   "outputs": [
    {
     "data": {
      "text/plain": [
       "[]"
      ]
     },
     "execution_count": 18,
     "metadata": {},
     "output_type": "execute_result"
    },
    {
     "data": {
      "image/png": "[encoded data removed]",
      "text/plain": [
       "<Figure size 432x288 with 1 Axes>"
      ]
     },
     "metadata": {
      "needs_background": "light"
     },
     "output_type": "display_data"
    }
   ],
   "source": [
    "plt.xlabel('epochs')\n",
    "plt.ylabel('val_accuracy')\n",
    "plt.plot(history.history['val_accuracy'], label = 'val_accuracy')\n",
    "plt.plot(history.history['accuracy'], label = 'accuracy')\n",
    "plt.legend()\n",
    "plt.plot()"
   ]
  },
  {
   "cell_type": "code",
   "execution_count": null,
   "metadata": {},
   "outputs": [],
   "source": []
  }
 ],
 "metadata": {
  "kernelspec": {
   "display_name": "Python 3",
   "language": "python",
   "name": "python3"
  },
  "language_info": {
   "codemirror_mode": {
    "name": "ipython",
    "version": 3
   },
   "file_extension": ".py",
   "mimetype": "text/x-python",
   "name": "python",
   "nbconvert_exporter": "python",
   "pygments_lexer": "ipython3",
   "version": "3.7.6"
  }
 },
 "nbformat": 4,
 "nbformat_minor": 4
}
